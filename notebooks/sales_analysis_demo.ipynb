{
 "cells": [
  {
   "cell_type": "markdown",
   "id": "939c66b0",
   "metadata": {},
   "source": [
    "# Análisis de Ventas - Demo Técnica\n",
    "\n",
    "Este notebook demuestra el uso de los principales componentes del sistema:\n",
    "- Conexión a la base de datos con SQLAlchemy\n",
    "- Resultados de queries convertidos a pandas DataFrame\n",
    "- Patrón Singleton aplicado a la clase de conexión\n",
    "- Ejecución de pruebas unitarias con `pytest`"
   ]
  },
  {
   "cell_type": "markdown",
   "id": "a091689d",
   "metadata": {},
   "source": [
    "### Configurar la importacion correcta de modulos"
   ]
  },
  {
   "cell_type": "code",
   "execution_count": 1,
   "id": "750ac519",
   "metadata": {},
   "outputs": [],
   "source": [
    "import sys\n",
    "import os\n",
    "sys.path.append(os.path.abspath(\"..\"))"
   ]
  },
  {
   "cell_type": "markdown",
   "id": "b346c1f8",
   "metadata": {},
   "source": [
    "### Conexion a la base de datos"
   ]
  },
  {
   "cell_type": "code",
   "execution_count": 2,
   "id": "ce5342a9",
   "metadata": {},
   "outputs": [
    {
     "name": "stderr",
     "output_type": "stream",
     "text": [
      "\u001b[32m2025-06-04 19:02:36 - INFO - src.database.connection - Obteniendo sesión de la base de datos...\u001b[0m\n",
      "\u001b[32m2025-06-04 19:02:36 - INFO - src.database.connection - Cerrando sesión de la base de datos...\u001b[0m\n"
     ]
    },
    {
     "name": "stdout",
     "output_type": "stream",
     "text": [
      "Conexión y sesión establecida correctamente.\n"
     ]
    }
   ],
   "source": [
    "from src.database.connection import DatabaseConnection\n",
    "db = DatabaseConnection()\n",
    "session = db.get_session()\n",
    "db.close_session(session)\n",
    "print(\"Conexión y sesión establecida correctamente.\")"
   ]
  },
  {
   "cell_type": "markdown",
   "id": "f14f3334",
   "metadata": {},
   "source": [
    "### Ejecucion de queries"
   ]
  },
  {
   "cell_type": "code",
   "execution_count": 3,
   "id": "3b3bdb67",
   "metadata": {},
   "outputs": [
    {
     "name": "stderr",
     "output_type": "stream",
     "text": [
      "\u001b[32m2025-06-04 19:02:38 - INFO - src.database.connection - Ejecutando consulta: SELECT * FROM categories\u001b[0m\n"
     ]
    },
    {
     "data": {
      "text/html": [
       "<div>\n",
       "<style scoped>\n",
       "    .dataframe tbody tr th:only-of-type {\n",
       "        vertical-align: middle;\n",
       "    }\n",
       "\n",
       "    .dataframe tbody tr th {\n",
       "        vertical-align: top;\n",
       "    }\n",
       "\n",
       "    .dataframe thead th {\n",
       "        text-align: right;\n",
       "    }\n",
       "</style>\n",
       "<table border=\"1\" class=\"dataframe\">\n",
       "  <thead>\n",
       "    <tr style=\"text-align: right;\">\n",
       "      <th></th>\n",
       "      <th>CategoryID</th>\n",
       "      <th>CategoryName</th>\n",
       "    </tr>\n",
       "  </thead>\n",
       "  <tbody>\n",
       "    <tr>\n",
       "      <th>0</th>\n",
       "      <td>1</td>\n",
       "      <td>Confections</td>\n",
       "    </tr>\n",
       "    <tr>\n",
       "      <th>1</th>\n",
       "      <td>2</td>\n",
       "      <td>Shell fish</td>\n",
       "    </tr>\n",
       "    <tr>\n",
       "      <th>2</th>\n",
       "      <td>3</td>\n",
       "      <td>Cereals</td>\n",
       "    </tr>\n",
       "    <tr>\n",
       "      <th>3</th>\n",
       "      <td>4</td>\n",
       "      <td>Dairy</td>\n",
       "    </tr>\n",
       "    <tr>\n",
       "      <th>4</th>\n",
       "      <td>5</td>\n",
       "      <td>Beverages</td>\n",
       "    </tr>\n",
       "  </tbody>\n",
       "</table>\n",
       "</div>"
      ],
      "text/plain": [
       "   CategoryID CategoryName\n",
       "0           1  Confections\n",
       "1           2   Shell fish\n",
       "2           3      Cereals\n",
       "3           4        Dairy\n",
       "4           5    Beverages"
      ]
     },
     "execution_count": 3,
     "metadata": {},
     "output_type": "execute_result"
    }
   ],
   "source": [
    "# Ejecución de query y conversión a DataFrame\n",
    "df = db.execute_query_as_dataframe(\"SELECT * FROM categories\")\n",
    "df.head()"
   ]
  },
  {
   "cell_type": "code",
   "execution_count": 4,
   "id": "e01cffdd",
   "metadata": {},
   "outputs": [
    {
     "name": "stderr",
     "output_type": "stream",
     "text": [
      "\u001b[32m2025-06-04 19:02:41 - INFO - src.database.connection - Ejecutando consulta: \n",
      "    SELECT c.CustomerID, c.FirstName, c.LastName, ct.CityName\n",
      "    FROM customers c\n",
      "    JOIN cities ct ON c.CityID = ct.CityID\n",
      "\u001b[0m\n"
     ]
    },
    {
     "data": {
      "text/html": [
       "<div>\n",
       "<style scoped>\n",
       "    .dataframe tbody tr th:only-of-type {\n",
       "        vertical-align: middle;\n",
       "    }\n",
       "\n",
       "    .dataframe tbody tr th {\n",
       "        vertical-align: top;\n",
       "    }\n",
       "\n",
       "    .dataframe thead th {\n",
       "        text-align: right;\n",
       "    }\n",
       "</style>\n",
       "<table border=\"1\" class=\"dataframe\">\n",
       "  <thead>\n",
       "    <tr style=\"text-align: right;\">\n",
       "      <th></th>\n",
       "      <th>CustomerID</th>\n",
       "      <th>FirstName</th>\n",
       "      <th>LastName</th>\n",
       "      <th>CityName</th>\n",
       "    </tr>\n",
       "  </thead>\n",
       "  <tbody>\n",
       "    <tr>\n",
       "      <th>0</th>\n",
       "      <td>1</td>\n",
       "      <td>Stefanie</td>\n",
       "      <td>Frye</td>\n",
       "      <td>Oklahoma</td>\n",
       "    </tr>\n",
       "    <tr>\n",
       "      <th>1</th>\n",
       "      <td>2</td>\n",
       "      <td>Sandy</td>\n",
       "      <td>Kirby</td>\n",
       "      <td>Pittsburgh</td>\n",
       "    </tr>\n",
       "    <tr>\n",
       "      <th>2</th>\n",
       "      <td>3</td>\n",
       "      <td>Lee</td>\n",
       "      <td>Zhang</td>\n",
       "      <td>Houston</td>\n",
       "    </tr>\n",
       "    <tr>\n",
       "      <th>3</th>\n",
       "      <td>4</td>\n",
       "      <td>Regina</td>\n",
       "      <td>Avery</td>\n",
       "      <td>Cleveland</td>\n",
       "    </tr>\n",
       "    <tr>\n",
       "      <th>4</th>\n",
       "      <td>5</td>\n",
       "      <td>Daniel</td>\n",
       "      <td>Mccann</td>\n",
       "      <td>Buffalo</td>\n",
       "    </tr>\n",
       "  </tbody>\n",
       "</table>\n",
       "</div>"
      ],
      "text/plain": [
       "   CustomerID FirstName LastName    CityName\n",
       "0           1  Stefanie     Frye    Oklahoma\n",
       "1           2     Sandy    Kirby  Pittsburgh\n",
       "2           3       Lee    Zhang     Houston\n",
       "3           4    Regina    Avery   Cleveland\n",
       "4           5    Daniel   Mccann     Buffalo"
      ]
     },
     "execution_count": 4,
     "metadata": {},
     "output_type": "execute_result"
    }
   ],
   "source": [
    "df_customers = db.execute_query_as_dataframe(\"\"\"\n",
    "    SELECT c.CustomerID, c.FirstName, c.LastName, ct.CityName\n",
    "    FROM customers c\n",
    "    JOIN cities ct ON c.CityID = ct.CityID\n",
    "\"\"\")\n",
    "df_customers.head()"
   ]
  },
  {
   "cell_type": "code",
   "execution_count": 21,
   "id": "434514fb",
   "metadata": {},
   "outputs": [
    {
     "name": "stderr",
     "output_type": "stream",
     "text": [
      "\u001b[32m2025-06-04 18:54:08 - INFO - src.database.connection - Ejecutando consulta: \n",
      "    SELECT p.ProductID, p.ProductName, p.Price, cat.CategoryName\n",
      "    FROM products p\n",
      "    JOIN categories cat ON p.CategoryID = cat.CategoryID\n",
      "\u001b[0m\n"
     ]
    },
    {
     "data": {
      "text/html": [
       "<div>\n",
       "<style scoped>\n",
       "    .dataframe tbody tr th:only-of-type {\n",
       "        vertical-align: middle;\n",
       "    }\n",
       "\n",
       "    .dataframe tbody tr th {\n",
       "        vertical-align: top;\n",
       "    }\n",
       "\n",
       "    .dataframe thead th {\n",
       "        text-align: right;\n",
       "    }\n",
       "</style>\n",
       "<table border=\"1\" class=\"dataframe\">\n",
       "  <thead>\n",
       "    <tr style=\"text-align: right;\">\n",
       "      <th></th>\n",
       "      <th>ProductID</th>\n",
       "      <th>ProductName</th>\n",
       "      <th>Price</th>\n",
       "      <th>CategoryName</th>\n",
       "    </tr>\n",
       "  </thead>\n",
       "  <tbody>\n",
       "    <tr>\n",
       "      <th>0</th>\n",
       "      <td>1</td>\n",
       "      <td>Flour - Whole Wheat</td>\n",
       "      <td>74.2988</td>\n",
       "      <td>Cereals</td>\n",
       "    </tr>\n",
       "    <tr>\n",
       "      <th>1</th>\n",
       "      <td>2</td>\n",
       "      <td>Cookie Chocolate Chip With</td>\n",
       "      <td>91.2329</td>\n",
       "      <td>Cereals</td>\n",
       "    </tr>\n",
       "    <tr>\n",
       "      <th>2</th>\n",
       "      <td>3</td>\n",
       "      <td>Onions - Cippolini</td>\n",
       "      <td>9.1379</td>\n",
       "      <td>Poultry</td>\n",
       "    </tr>\n",
       "    <tr>\n",
       "      <th>3</th>\n",
       "      <td>4</td>\n",
       "      <td>Sauce - Gravy; Au Jus; Mix</td>\n",
       "      <td>54.3055</td>\n",
       "      <td>Poultry</td>\n",
       "    </tr>\n",
       "    <tr>\n",
       "      <th>4</th>\n",
       "      <td>5</td>\n",
       "      <td>Artichokes - Jerusalem</td>\n",
       "      <td>65.4771</td>\n",
       "      <td>Shell fish</td>\n",
       "    </tr>\n",
       "  </tbody>\n",
       "</table>\n",
       "</div>"
      ],
      "text/plain": [
       "   ProductID                 ProductName    Price CategoryName\n",
       "0          1         Flour - Whole Wheat  74.2988      Cereals\n",
       "1          2  Cookie Chocolate Chip With  91.2329      Cereals\n",
       "2          3          Onions - Cippolini   9.1379      Poultry\n",
       "3          4  Sauce - Gravy; Au Jus; Mix  54.3055      Poultry\n",
       "4          5      Artichokes - Jerusalem  65.4771   Shell fish"
      ]
     },
     "execution_count": 21,
     "metadata": {},
     "output_type": "execute_result"
    }
   ],
   "source": [
    "df_products = db.execute_query_as_dataframe(\"\"\"\n",
    "    SELECT p.ProductID, p.ProductName, p.Price, cat.CategoryName\n",
    "    FROM products p\n",
    "    JOIN categories cat ON p.CategoryID = cat.CategoryID\n",
    "\"\"\")\n",
    "df_products.head()"
   ]
  },
  {
   "cell_type": "code",
   "execution_count": 5,
   "id": "bcd0ccef",
   "metadata": {},
   "outputs": [
    {
     "name": "stderr",
     "output_type": "stream",
     "text": [
      "\u001b[32m2025-06-04 19:02:44 - INFO - src.database.connection - Ejecutando consulta: \n",
      "    SELECT SalesID, SalesDate, Quantity, TotalPrice, CustomerID\n",
      "    FROM sales\n",
      "    ORDER BY SalesDate DESC\n",
      "    LIMIT 5\n",
      "\u001b[0m\n"
     ]
    },
    {
     "data": {
      "text/html": [
       "<div>\n",
       "<style scoped>\n",
       "    .dataframe tbody tr th:only-of-type {\n",
       "        vertical-align: middle;\n",
       "    }\n",
       "\n",
       "    .dataframe tbody tr th {\n",
       "        vertical-align: top;\n",
       "    }\n",
       "\n",
       "    .dataframe thead th {\n",
       "        text-align: right;\n",
       "    }\n",
       "</style>\n",
       "<table border=\"1\" class=\"dataframe\">\n",
       "  <thead>\n",
       "    <tr style=\"text-align: right;\">\n",
       "      <th></th>\n",
       "      <th>SalesID</th>\n",
       "      <th>SalesDate</th>\n",
       "      <th>Quantity</th>\n",
       "      <th>TotalPrice</th>\n",
       "      <th>CustomerID</th>\n",
       "    </tr>\n",
       "  </thead>\n",
       "  <tbody>\n",
       "    <tr>\n",
       "      <th>0</th>\n",
       "      <td>417682</td>\n",
       "      <td>2 days 11:59:01</td>\n",
       "      <td>5</td>\n",
       "      <td>65.00</td>\n",
       "      <td>18075</td>\n",
       "    </tr>\n",
       "    <tr>\n",
       "      <th>1</th>\n",
       "      <td>3692623</td>\n",
       "      <td>2 days 11:59:01</td>\n",
       "      <td>3</td>\n",
       "      <td>51.00</td>\n",
       "      <td>8986</td>\n",
       "    </tr>\n",
       "    <tr>\n",
       "      <th>2</th>\n",
       "      <td>117578</td>\n",
       "      <td>2 days 11:59:00</td>\n",
       "      <td>5</td>\n",
       "      <td>45.00</td>\n",
       "      <td>17746</td>\n",
       "    </tr>\n",
       "    <tr>\n",
       "      <th>3</th>\n",
       "      <td>1944938</td>\n",
       "      <td>2 days 11:59:00</td>\n",
       "      <td>24</td>\n",
       "      <td>144.00</td>\n",
       "      <td>94027</td>\n",
       "    </tr>\n",
       "    <tr>\n",
       "      <th>4</th>\n",
       "      <td>2274474</td>\n",
       "      <td>2 days 11:59:00</td>\n",
       "      <td>16</td>\n",
       "      <td>80.00</td>\n",
       "      <td>61064</td>\n",
       "    </tr>\n",
       "  </tbody>\n",
       "</table>\n",
       "</div>"
      ],
      "text/plain": [
       "   SalesID       SalesDate  Quantity TotalPrice  CustomerID\n",
       "0   417682 2 days 11:59:01         5      65.00       18075\n",
       "1  3692623 2 days 11:59:01         3      51.00        8986\n",
       "2   117578 2 days 11:59:00         5      45.00       17746\n",
       "3  1944938 2 days 11:59:00        24     144.00       94027\n",
       "4  2274474 2 days 11:59:00        16      80.00       61064"
      ]
     },
     "execution_count": 5,
     "metadata": {},
     "output_type": "execute_result"
    }
   ],
   "source": [
    "df_sales = db.execute_query_as_dataframe(\"\"\"\n",
    "    SELECT SalesID, SalesDate, Quantity, TotalPrice, CustomerID\n",
    "    FROM sales\n",
    "    ORDER BY SalesDate DESC\n",
    "    LIMIT 5\n",
    "\"\"\")\n",
    "df_sales.head()"
   ]
  },
  {
   "cell_type": "code",
   "execution_count": 6,
   "id": "b0165bdc",
   "metadata": {},
   "outputs": [
    {
     "name": "stderr",
     "output_type": "stream",
     "text": [
      "\u001b[32m2025-06-04 19:02:46 - INFO - src.database.connection - Ejecutando consulta: \n",
      "    SELECT e.EmployeeID, e.FirstName, e.LastName, e.Gender, ct.CityName\n",
      "    FROM employees e\n",
      "    JOIN cities ct ON e.CityID = ct.CityID\n",
      "\u001b[0m\n"
     ]
    },
    {
     "data": {
      "text/html": [
       "<div>\n",
       "<style scoped>\n",
       "    .dataframe tbody tr th:only-of-type {\n",
       "        vertical-align: middle;\n",
       "    }\n",
       "\n",
       "    .dataframe tbody tr th {\n",
       "        vertical-align: top;\n",
       "    }\n",
       "\n",
       "    .dataframe thead th {\n",
       "        text-align: right;\n",
       "    }\n",
       "</style>\n",
       "<table border=\"1\" class=\"dataframe\">\n",
       "  <thead>\n",
       "    <tr style=\"text-align: right;\">\n",
       "      <th></th>\n",
       "      <th>EmployeeID</th>\n",
       "      <th>FirstName</th>\n",
       "      <th>LastName</th>\n",
       "      <th>Gender</th>\n",
       "      <th>CityName</th>\n",
       "    </tr>\n",
       "  </thead>\n",
       "  <tbody>\n",
       "    <tr>\n",
       "      <th>0</th>\n",
       "      <td>1</td>\n",
       "      <td>Nicole</td>\n",
       "      <td>Fuller</td>\n",
       "      <td>F</td>\n",
       "      <td>New Orleans</td>\n",
       "    </tr>\n",
       "    <tr>\n",
       "      <th>1</th>\n",
       "      <td>2</td>\n",
       "      <td>Christine</td>\n",
       "      <td>Palmer</td>\n",
       "      <td>F</td>\n",
       "      <td>Fremont</td>\n",
       "    </tr>\n",
       "    <tr>\n",
       "      <th>2</th>\n",
       "      <td>3</td>\n",
       "      <td>Pablo</td>\n",
       "      <td>Cline</td>\n",
       "      <td>M</td>\n",
       "      <td>Rochester</td>\n",
       "    </tr>\n",
       "    <tr>\n",
       "      <th>3</th>\n",
       "      <td>4</td>\n",
       "      <td>Darnell</td>\n",
       "      <td>Nielsen</td>\n",
       "      <td>M</td>\n",
       "      <td>Lubbock</td>\n",
       "    </tr>\n",
       "    <tr>\n",
       "      <th>4</th>\n",
       "      <td>5</td>\n",
       "      <td>Desiree</td>\n",
       "      <td>Stuart</td>\n",
       "      <td>F</td>\n",
       "      <td>Anaheim</td>\n",
       "    </tr>\n",
       "  </tbody>\n",
       "</table>\n",
       "</div>"
      ],
      "text/plain": [
       "   EmployeeID  FirstName LastName Gender     CityName\n",
       "0           1     Nicole   Fuller      F  New Orleans\n",
       "1           2  Christine   Palmer      F      Fremont\n",
       "2           3      Pablo    Cline      M    Rochester\n",
       "3           4    Darnell  Nielsen      M      Lubbock\n",
       "4           5    Desiree   Stuart      F      Anaheim"
      ]
     },
     "execution_count": 6,
     "metadata": {},
     "output_type": "execute_result"
    }
   ],
   "source": [
    "df_employees = db.execute_query_as_dataframe(\"\"\"\n",
    "    SELECT e.EmployeeID, e.FirstName, e.LastName, e.Gender, ct.CityName\n",
    "    FROM employees e\n",
    "    JOIN cities ct ON e.CityID = ct.CityID\n",
    "\"\"\")\n",
    "df_employees.head()"
   ]
  },
  {
   "cell_type": "markdown",
   "id": "ae4a3a8d",
   "metadata": {},
   "source": [
    "### Patrón de diseño aplicado: Singleton y Ejecucion de test\n",
    "La clase `DatabaseConnection` implementa el patrón Singleton, garantizando una única instancia global:\n",
    "```python\n",
    "db1 = DatabaseConnection()\n",
    "db2 = DatabaseConnection()\n",
    "assert db1 is db2\n",
    "```"
   ]
  },
  {
   "cell_type": "code",
   "execution_count": 7,
   "id": "cc48d55f",
   "metadata": {},
   "outputs": [
    {
     "name": "stdout",
     "output_type": "stream",
     "text": [
      "\u001b[1m============================= test session starts =============================\u001b[0m\n",
      "platform win32 -- Python 3.13.2, pytest-8.0.2, pluggy-1.5.0 -- C:\\Users\\bcami\\OneDrive\\Escritorio\\ACCENTURE\\sales_company\\venv_sales_company\\Scripts\\python.exe\n",
      "cachedir: .pytest_cache\n",
      "rootdir: c:\\Users\\bcami\\OneDrive\\Escritorio\\ACCENTURE\\sales_company\n",
      "plugins: anyio-4.8.0, cov-6.0.0\n",
      "\u001b[1mcollecting ... \u001b[0mcollected 12 items\n",
      "\n",
      "..\\test\\test_customer.py::test_get_full_name \u001b[32mPASSED\u001b[0m\u001b[32m                      [  8%]\u001b[0m\n",
      "..\\test\\test_customer.py::test_set_address \u001b[32mPASSED\u001b[0m\u001b[32m                        [ 16%]\u001b[0m\n",
      "..\\test\\test_customer.py::test_customer_repr \u001b[32mPASSED\u001b[0m\u001b[32m                      [ 25%]\u001b[0m\n",
      "..\\test\\test_database_connection.py::test_singleton_instance \u001b[32mPASSED\u001b[0m\u001b[32m      [ 33%]\u001b[0m\n",
      "..\\test\\test_database_connection.py::test_get_session \u001b[32mPASSED\u001b[0m\u001b[32m             [ 41%]\u001b[0m\n",
      "..\\test\\test_database_connection.py::test_close_session \u001b[32mPASSED\u001b[0m\u001b[32m           [ 50%]\u001b[0m\n",
      "..\\test\\test_database_connection.py::test_execute_query_as_dataframe \u001b[32mPASSED\u001b[0m\u001b[32m [ 58%]\u001b[0m\n",
      "..\\test\\test_employee.py::test_employee_full_name \u001b[32mPASSED\u001b[0m\u001b[32m                 [ 66%]\u001b[0m\n",
      "..\\test\\test_employee.py::test_employee_tenure \u001b[32mPASSED\u001b[0m\u001b[32m                    [ 75%]\u001b[0m\n",
      "..\\test\\test_product.py::test_get_price \u001b[32mPASSED\u001b[0m\u001b[32m                           [ 83%]\u001b[0m\n",
      "..\\test\\test_product.py::test_set_price \u001b[32mPASSED\u001b[0m\u001b[32m                           [ 91%]\u001b[0m\n",
      "..\\test\\test_product.py::test_product_repr \u001b[32mPASSED\u001b[0m\u001b[32m                        [100%]\u001b[0m\n",
      "\n",
      "\u001b[32m============================= \u001b[32m\u001b[1m12 passed\u001b[0m\u001b[32m in 0.79s\u001b[0m\u001b[32m ==============================\u001b[0m\n"
     ]
    }
   ],
   "source": [
    "#Ejecución de pruebas unitarias incluyendo el test unitario de una unica conexion a la base de datos\n",
    "!pytest ../test -v"
   ]
  }
 ],
 "metadata": {
  "kernelspec": {
   "display_name": "venv_sales_company",
   "language": "python",
   "name": "python3"
  },
  "language_info": {
   "codemirror_mode": {
    "name": "ipython",
    "version": 3
   },
   "file_extension": ".py",
   "mimetype": "text/x-python",
   "name": "python",
   "nbconvert_exporter": "python",
   "pygments_lexer": "ipython3",
   "version": "3.13.2"
  }
 },
 "nbformat": 4,
 "nbformat_minor": 5
}
